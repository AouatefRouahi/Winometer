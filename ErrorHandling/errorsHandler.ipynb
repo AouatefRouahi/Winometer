{
 "cells": [
  {
   "cell_type": "code",
   "execution_count": 1,
   "id": "9d5a87c5-67ff-4215-bbbd-b62a3c8d4bb8",
   "metadata": {},
   "outputs": [],
   "source": [
    "import requests\n",
    "\n",
    "url = \"https://wineometer-ar.herokuapp.com/predict\""
   ]
  },
  {
   "cell_type": "markdown",
   "id": "6977f06a-fc41-49fd-84f9-1c71677b0a8f",
   "metadata": {},
   "source": [
    "# Invalid Input"
   ]
  },
  {
   "cell_type": "markdown",
   "id": "320227aa-9c94-4087-89f5-ac4e9e37da26",
   "metadata": {},
   "source": [
    "## Invalid Input Type"
   ]
  },
  {
   "cell_type": "code",
   "execution_count": 2,
   "id": "568bc94f-eebf-4279-9830-c8d9fe332a66",
   "metadata": {},
   "outputs": [
    {
     "name": "stdout",
     "output_type": "stream",
     "text": [
      "{'error': '500 Internal Server Error: Incompatible Input Type Error!! Please check the required input format!!'}\n"
     ]
    }
   ],
   "source": [
    "input_ = (\"input\", [[5.0, 0.98, 0.32, 18.9, 0.050, 75.0, 122.0, 0.401, 3.1, 0.21, 1.2]])\n",
    "\n",
    "res = requests.post(url, json=input_)\n",
    "\n",
    "print(res.json())"
   ]
  },
  {
   "cell_type": "markdown",
   "id": "08945e87-c917-490a-998b-17611099cb31",
   "metadata": {},
   "source": [
    "## Invalid Key"
   ]
  },
  {
   "cell_type": "markdown",
   "id": "a7330cc9-8e48-445f-ab4e-9c132b6c7ca3",
   "metadata": {},
   "source": [
    "### empty input"
   ]
  },
  {
   "cell_type": "code",
   "execution_count": 3,
   "id": "81039add-8bf1-47a1-aea9-74ebfc092bd2",
   "metadata": {},
   "outputs": [
    {
     "name": "stdout",
     "output_type": "stream",
     "text": [
      "{'error': '500 Internal Server Error: Incompatible Key Error!! No key is supplied!!'}\n"
     ]
    }
   ],
   "source": [
    "input_ = {}\n",
    "\n",
    "res = requests.post(url, json=input_)\n",
    "\n",
    "print(res.json())"
   ]
  },
  {
   "cell_type": "markdown",
   "id": "d541bbd4-e2b8-4910-8bdd-e3278fb9d854",
   "metadata": {},
   "source": [
    "### multiple keys"
   ]
  },
  {
   "cell_type": "code",
   "execution_count": 4,
   "id": "c9744125-dca7-446d-99a7-e4285288aa96",
   "metadata": {},
   "outputs": [
    {
     "name": "stdout",
     "output_type": "stream",
     "text": [
      "{'error': '500 Internal Server Error: Incompatible Key Error!! Only one key is accepted!!'}\n"
     ]
    }
   ],
   "source": [
    "input_ = {\"input\":[[5.0, 0.98, 0.32, 18.9, 0.050, 75.0, 122.0, 0.401, 3.1, 0.21, 1.2]],\n",
    "          \"input2\": [[5.0, 0.98, 0.32, 18.9, 0.050, 75.0, 122.0, 0.401, 3.1, 0.21, 1.2]]}\n",
    "\n",
    "res = requests.post(url, json=input_)\n",
    "\n",
    "print(res.json())"
   ]
  },
  {
   "cell_type": "markdown",
   "id": "6873a8be-6f21-46aa-93e7-5434db15a83d",
   "metadata": {},
   "source": [
    "### invalid key nomination"
   ]
  },
  {
   "cell_type": "code",
   "execution_count": 5,
   "id": "22f6f498-631e-49a0-b6ff-7012342c9e74",
   "metadata": {},
   "outputs": [
    {
     "name": "stdout",
     "output_type": "stream",
     "text": [
      "{'error': \"500 Internal Server Error: Incompatible Key Error nomination!! The key must be equal to 'input'!!\"}\n"
     ]
    }
   ],
   "source": [
    "input_ = {\"my_input\":[[5.0, 0.98, 0.32, 18.9, 0.050, 75.0, 122.0, 0.401, 3.1, 0.21, 1.2]]}\n",
    "\n",
    "res = requests.post(url, json=input_)\n",
    "\n",
    "print(res.json())"
   ]
  },
  {
   "cell_type": "markdown",
   "id": "5d33fece-46e2-4d09-9e75-e83081121d1b",
   "metadata": {},
   "source": [
    "## Invalid parameters "
   ]
  },
  {
   "cell_type": "markdown",
   "id": "4fddaf86-89d1-4484-985d-97ac682fd02e",
   "metadata": {},
   "source": [
    "### invalid parameters format 1"
   ]
  },
  {
   "cell_type": "code",
   "execution_count": 6,
   "id": "627f6b8f-7105-44a4-99bb-faed0af7d0a4",
   "metadata": {},
   "outputs": [
    {
     "name": "stdout",
     "output_type": "stream",
     "text": [
      "{'error': '500 Internal Server Error: Incompatible Request Value Error!! The recieved parameters must be lists of 11 float parameters!!'}\n"
     ]
    }
   ],
   "source": [
    "input_ = {\"input\":5}\n",
    "\n",
    "res = requests.post(url, json=input_)\n",
    "\n",
    "print(res.json())"
   ]
  },
  {
   "cell_type": "markdown",
   "id": "eb0842d9-9ba5-48a4-a190-a885a5e3d042",
   "metadata": {},
   "source": [
    "### invalid parameters format 2"
   ]
  },
  {
   "cell_type": "code",
   "execution_count": 7,
   "id": "20dce26e-5ebc-47c7-811a-f45443cd299a",
   "metadata": {},
   "outputs": [
    {
     "name": "stdout",
     "output_type": "stream",
     "text": [
      "{'error': '500 Internal Server Error: Incompatible Request Value Error!! The recieved parameters must be lists of 11 float parameters!!'}\n"
     ]
    }
   ],
   "source": [
    "input_ = {\"input\":[[5.0, 0.98, 0.32, 18.9, 0.050, 75.0, 122.0, 0.401, 3.1, 0.21, 1.2], \"hello\"]}\n",
    "\n",
    "res = requests.post(url, json=input_)\n",
    "\n",
    "print(res.json())"
   ]
  },
  {
   "cell_type": "markdown",
   "id": "68d3f32f-5cf5-4de2-aa9f-27877cee0b0a",
   "metadata": {},
   "source": [
    "### incomplete parameters"
   ]
  },
  {
   "cell_type": "code",
   "execution_count": 8,
   "id": "9642e2c1-1b42-455f-abc0-0384a12ba92a",
   "metadata": {},
   "outputs": [
    {
     "name": "stdout",
     "output_type": "stream",
     "text": [
      "{'error': '500 Internal Server Error: Incompatible Request Value Error!! The recieved parameters must be lists of 11 float parameters!!'}\n"
     ]
    }
   ],
   "source": [
    "input_ = {\"input\":[[5.0, 0.98, 0.32, 18.9, 0.050, 75.0, 122.0, 0.401, 3.1, 0.21, 1.2], [20.7, 0.045, 45.0, 170.0, 1.001, 3.0, 0.45, 8.8]]}\n",
    "\n",
    "res = requests.post(url, json=input_)\n",
    "\n",
    "print(res.json())"
   ]
  },
  {
   "cell_type": "markdown",
   "id": "0075d10e-17ca-4279-94de-059906505548",
   "metadata": {},
   "source": [
    "### invalid parameters type"
   ]
  },
  {
   "cell_type": "code",
   "execution_count": 9,
   "id": "c2b95d05-79ae-4482-a17a-f94cbd29520e",
   "metadata": {},
   "outputs": [
    {
     "name": "stdout",
     "output_type": "stream",
     "text": [
      "{'error': '500 Internal Server Error: Incompatible Request Value Error!! The recieved parameters must be lists of 11 float parameters!!'}\n"
     ]
    }
   ],
   "source": [
    "input_ = {\"input\":[[5.0, 0.98, 0.32, 18.9, 0.050, 75.0, 122.0, 0.401, 3.1, 0.21, 1.2], [\"Hi\", 0.27, 0.36, 20.7, 0.045, 45.0, 170.0, 1.001, 3.0, 0.45, 8.8]]}\n",
    "\n",
    "res = requests.post(url, json=input_)\n",
    "\n",
    "print(res.json())"
   ]
  },
  {
   "cell_type": "markdown",
   "id": "c79bf739-bafb-4c15-811c-cf5cf6fd0ea4",
   "metadata": {},
   "source": [
    "# Valid input"
   ]
  },
  {
   "cell_type": "markdown",
   "id": "292789e0-39f2-44b7-8034-27e06b1a7db3",
   "metadata": {},
   "source": [
    "## simple_input"
   ]
  },
  {
   "cell_type": "code",
   "execution_count": 10,
   "id": "4164538d-8ac3-48cd-9081-5a6f881ec65c",
   "metadata": {},
   "outputs": [
    {
     "name": "stdout",
     "output_type": "stream",
     "text": [
      "{'Prediction': [5]}\n"
     ]
    }
   ],
   "source": [
    "input_ = {\"input\":[[5.0, 0.98, 0.32, 18.9, 0.050, 75.0, 122.0, 0.401, 3.1, 0.21, 1.2]]}\n",
    "\n",
    "res = requests.post(url, json=input_)\n",
    "\n",
    "print(res.json())"
   ]
  },
  {
   "cell_type": "markdown",
   "id": "1a3c926d-bccd-48c7-8c9b-35f14ea7dd6d",
   "metadata": {},
   "source": [
    "## multiple_input"
   ]
  },
  {
   "cell_type": "code",
   "execution_count": 11,
   "id": "b57a830b-b195-48ed-990a-8ce5b96eca26",
   "metadata": {},
   "outputs": [
    {
     "name": "stdout",
     "output_type": "stream",
     "text": [
      "{'Prediction': [5, 6]}\n"
     ]
    }
   ],
   "source": [
    "input_ = {\"input\":[[5.0, 0.98, 0.32, 18.9, 0.050, 75.0, 122.0, 0.401, 3.1, 0.21, 1.2], [7.0, 0.27, 0.36, 20.7, 0.045, 45.0, 170.0, 1.001, 3.0, 0.45, 8.8]]}\n",
    "\n",
    "res = requests.post(url, json=input_)\n",
    "\n",
    "print(res.json())"
   ]
  }
 ],
 "metadata": {
  "kernelspec": {
   "display_name": "Python 3 (ipykernel)",
   "language": "python",
   "name": "python3"
  },
  "language_info": {
   "codemirror_mode": {
    "name": "ipython",
    "version": 3
   },
   "file_extension": ".py",
   "mimetype": "text/x-python",
   "name": "python",
   "nbconvert_exporter": "python",
   "pygments_lexer": "ipython3",
   "version": "3.9.12"
  },
  "toc-autonumbering": true,
  "toc-showmarkdowntxt": true,
  "toc-showtags": false
 },
 "nbformat": 4,
 "nbformat_minor": 5
}
